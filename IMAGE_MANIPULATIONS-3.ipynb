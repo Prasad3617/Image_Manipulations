{
  "nbformat": 4,
  "nbformat_minor": 0,
  "metadata": {
    "colab": {
      "provenance": []
    },
    "kernelspec": {
      "name": "python3",
      "display_name": "Python 3"
    },
    "language_info": {
      "name": "python"
    }
  },
  "cells": [
    {
      "cell_type": "markdown",
      "source": [
        "*Importing the required files...*"
      ],
      "metadata": {
        "id": "AyICtDSvwb_H"
      }
    },
    {
      "cell_type": "code",
      "execution_count": null,
      "metadata": {
        "id": "PhYaxbw8wTr7"
      },
      "outputs": [],
      "source": [
        "import cv2\n",
        "import numpy as np"
      ]
    },
    {
      "cell_type": "markdown",
      "source": [
        "*Defining a function for creating a salt&pepper Noise*\n"
      ],
      "metadata": {
        "id": "azxPmm7cwlwN"
      }
    },
    {
      "cell_type": "code",
      "source": [
        "def sp_noise(image):\n",
        "  output=image.copy()          #creating a copy of the image upon which to impose the salt&pepper noise\n",
        " \n",
        "  if len(image.shape)==2:      #declaration for the grayscale image: only one dimensional array with '0' for 'black' and '255' for 'white'\n",
        "    black=0\n",
        "    white=255\n",
        " \n",
        "  else:\n",
        "    black=np.array([0,0,0], dtype='uint8')              #declaring for RGB image: 3D array for colored image One for Red, One for Green and One for Blue\n",
        "    white=np.array([255,255,255], dtype='uint8')\n",
        "\n",
        "random_threshold=np.random.random(image.shape[:2])\n",
        "output[random_threshold<(random_threshold/2)]=black      \n",
        "output[random_threshold>1-(random_threshold/2)]=white\n",
        "return output"
      ],
      "metadata": {
        "id": "0QshD2QVwy-m"
      },
      "execution_count": null,
      "outputs": []
    },
    {
      "cell_type": "markdown",
      "source": [
        "*driver function for declaring an image and performing Image-Manipulations \n",
        "note that any image can be used instead of 'car.jpeg'*"
      ],
      "metadata": {
        "id": "9lvmOj5Z4B0f"
      }
    },
    {
      "cell_type": "code",
      "source": [
        "image=cv2.imread('car.jpeg')                             \n",
        "sp_noisy_image=sp_noise(image)                           \n",
        "cv2.imshow(\"salt and pepper noise\"; np.hstack((image,sp_noisy_image)))\n",
        "cv2.waitkey(0)"
      ],
      "metadata": {
        "id": "bmPcf6IN4CIN"
      },
      "execution_count": null,
      "outputs": []
    },
    {
      "cell_type": "markdown",
      "source": [
        "*mean filter for image manipulations*"
      ],
      "metadata": {
        "id": "YBv29JEm4E3M"
      }
    },
    {
      "cell_type": "code",
      "source": [
        "def mean_filter(image,filter_size):                  \n",
        "  filter_dims=(filter_size,filter_size)\n",
        "  mean_filter=np.ones(filter_dims,np.float32)/filter_size*filter_size\n",
        "  filtered_image=cv2.filter2D(image,-1,mean_filter)\n",
        "  return filtered_image"
      ],
      "metadata": {
        "id": "z0nrOpae4FJb"
      },
      "execution_count": null,
      "outputs": []
    },
    {
      "cell_type": "markdown",
      "source": [
        "*code for performing mean_filter_Image-Manipulations*"
      ],
      "metadata": {
        "id": "IvsNnt7K4ITg"
      }
    },
    {
      "cell_type": "code",
      "source": [
        "image=cv2.imread('car.jpeg')\n",
        "sp_noisy_image=sp_noise(image)\n",
        "mean_filtered_image=mean_filter(sp_noisy_image,3)\n",
        "cv.imshow('mean_filtered_image',np.hstack((sp_noisy_image,filtered_image)))\n",
        "cv2.waitkey(0)"
      ],
      "metadata": {
        "id": "684al4Eq4IgH"
      },
      "execution_count": null,
      "outputs": []
    },
    {
      "cell_type": "markdown",
      "source": [
        "*median filter for image manipulations*"
      ],
      "metadata": {
        "id": "WTqBBsBg4NPw"
      }
    },
    {
      "cell_type": "code",
      "source": [
        "def median_filter(image,filter_size):                   \n",
        "  filtered_image=cv2.medianBlur(image,filter_size)\n",
        "  return filtered_imagee"
      ],
      "metadata": {
        "id": "3GUlNfly4Nbp"
      },
      "execution_count": null,
      "outputs": []
    },
    {
      "cell_type": "markdown",
      "source": [
        "*code for performing median_filter_Image-Manipulations*"
      ],
      "metadata": {
        "id": "-ZPi5mDN4TiG"
      }
    },
    {
      "cell_type": "code",
      "source": [
        "image=cv2.imread('car.jpeg')\n",
        "sp_noisy_image=sp_noise(image)\n",
        "median_filtered_image=median_filter(sp_noisy_image,3)\n",
        "cv2.imshow('Median_filtered_image', np.hstack((sp_noisy_image,filtered_image)))\n",
        "cv2.waitkey(0)"
      ],
      "metadata": {
        "id": "EhzYdwxt4Tsx"
      },
      "execution_count": null,
      "outputs": []
    }
  ]
}
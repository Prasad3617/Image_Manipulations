{
 "cells": [
  {
   "cell_type": "code",
   "execution_count": 13,
   "id": "259785bb",
   "metadata": {},
   "outputs": [],
   "source": [
    "import cv2\n",
    "import numpy as np"
   ]
  },
  {
   "cell_type": "code",
   "execution_count": 14,
   "id": "916e9ac1",
   "metadata": {},
   "outputs": [],
   "source": [
    "def read_image(image_path):\n",
    "    image = cv2.imread(image_path)\n",
    "    return image    "
   ]
  },
  {
   "cell_type": "code",
   "execution_count": 15,
   "id": "a46329a7",
   "metadata": {},
   "outputs": [],
   "source": [
    "def display_image(window_name,read_image):\n",
    "    image = cv2.imshow(window_name,read_image) # \"cv2\" Reads images in 'BGR Format' # \"cv2\" does the flipping part of flipping BGR to RGB in the format which we are able to see.\n",
    "    cv2.waitKey(0)"
   ]
  },
  {
   "cell_type": "code",
   "execution_count": 16,
   "id": "1cab9779",
   "metadata": {},
   "outputs": [],
   "source": [
    "def save_image(image_name,image):\n",
    "    cv2.imwrite(image_name,image) #for ex: \"save_image.jpg\""
   ]
  },
  {
   "cell_type": "code",
   "execution_count": 17,
   "id": "7674a94f",
   "metadata": {},
   "outputs": [],
   "source": [
    "def resize_image(image,dimensions,method_number):\n",
    "    method = [cv2.INTER_AREA,cv2.INTER_LINEAR,cv2.INTER_NEAREST,cv2.INTER_CUBIC,cv2.INTER_LANCZOS4] #different methods available in CV2\n",
    "    resize_method = method[method_number]\n",
    "    resized_image = cv2.resize(image,dimensions,interpolation=resize_method) #3 parameters to be passed in image resizing operations \n",
    "    return resized_image"
   ]
  },
  {
   "cell_type": "markdown",
   "id": "a3e2fa1e",
   "metadata": {},
   "source": [
    "Below is the implementaion of the above written code"
   ]
  },
  {
   "cell_type": "code",
   "execution_count": null,
   "id": "5e075547",
   "metadata": {},
   "outputs": [
    {
     "name": "stdout",
     "output_type": "stream",
     "text": [
      "(168, 300, 3)\n"
     ]
    }
   ],
   "source": [
    "image = read_image('car.jpg')\n",
    "#display_image('Displayed_image',image)\n",
    "#save_image('untitled_folder//saved_image.jpg',image)\n",
    "print(image.shape)\n",
    "dimensions = (160,160)\n",
    "method = 1      #In python indexing begins from '0', '1' stands for eement at '2nd' position\n",
    "resized_image = resize_image(image,dimensions,method)\n",
    "display_image('resized_image',resized_image)"
   ]
  },
  {
   "cell_type": "code",
   "execution_count": null,
   "id": "e5e6204a",
   "metadata": {},
   "outputs": [],
   "source": []
  }
 ],
 "metadata": {
  "kernelspec": {
   "display_name": "Python 3 (ipykernel)",
   "language": "python",
   "name": "python3"
  },
  "language_info": {
   "codemirror_mode": {
    "name": "ipython",
    "version": 3
   },
   "file_extension": ".py",
   "mimetype": "text/x-python",
   "name": "python",
   "nbconvert_exporter": "python",
   "pygments_lexer": "ipython3",
   "version": "3.9.12"
  }
 },
 "nbformat": 4,
 "nbformat_minor": 5
}

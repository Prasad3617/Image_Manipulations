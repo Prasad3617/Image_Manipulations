{
 "cells": [
  {
   "cell_type": "code",
   "execution_count": null,
   "id": "3fb02d42",
   "metadata": {},
   "outputs": [],
   "source": [
    "image = read_image('car.jpg')\n",
    "#display_image('Displayed_image',image)\n",
    "#save_image('untitled_folder//saved_image.jpg',image)\n",
    "print(image.shape)\n",
    "dimensions = (160,160)\n",
    "#method = 1      #In python indexing begins from '0', '1' stands for eement at '2nd' position\n",
    "#resized_image = resize_image(image,dimensions,method)\n",
    "#display_image('resized_image',resized_image)\n",
    "#crop_dimensions = [0,150,0,150]\n",
    "#cropped_image = crop_image(image,crop_dimensions)\n",
    "#display_image('cropped_image',cropped_image)\n",
    "translation_dimensions = (25,25)\n",
    "translated_image = image_translation(image,translation_dimensions)\n",
    "display_image('translated_image',translated_image)"
   ]
  }
 ],
 "metadata": {
  "kernelspec": {
   "display_name": "Python 3 (ipykernel)",
   "language": "python",
   "name": "python3"
  },
  "language_info": {
   "codemirror_mode": {
    "name": "ipython",
    "version": 3
   },
   "file_extension": ".py",
   "mimetype": "text/x-python",
   "name": "python",
   "nbconvert_exporter": "python",
   "pygments_lexer": "ipython3",
   "version": "3.9.12"
  }
 },
 "nbformat": 4,
 "nbformat_minor": 5
}

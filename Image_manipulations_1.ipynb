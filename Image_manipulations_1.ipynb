{
 "cells": [
  {
   "cell_type": "code",
   "execution_count": 1,
   "id": "259785bb",
   "metadata": {},
   "outputs": [],
   "source": [
    "import cv2\n",
    "import numpy as np"
   ]
  },
  {
   "cell_type": "code",
   "execution_count": 2,
   "id": "916e9ac1",
   "metadata": {},
   "outputs": [],
   "source": [
    "def read_image(image_path):\n",
    "    image = cv2.imread(image_path)\n",
    "    return image    "
   ]
  },
  {
   "cell_type": "code",
   "execution_count": 3,
   "id": "a46329a7",
   "metadata": {},
   "outputs": [],
   "source": [
    "def display_image(window_name,read_image):\n",
    "    image = cv2.imshow(window_name,read_image) # \"cv2\" Reads images in 'BGR Format' # \"cv2\" does the flipping part of flipping BGR to RGB in the format which we are able to see.\n",
    "    cv2.waitKey(0)"
   ]
  },
  {
   "cell_type": "code",
   "execution_count": 4,
   "id": "1cab9779",
   "metadata": {},
   "outputs": [],
   "source": [
    "def save_image(image_name,image):\n",
    "    cv2.imwrite(image_name,image) #for ex: \"save_image.jpg\""
   ]
  },
  {
   "cell_type": "code",
   "execution_count": 5,
   "id": "7674a94f",
   "metadata": {},
   "outputs": [],
   "source": [
    "def resize_image(image,dimensions,method_number):\n",
    "    method = [cv2.INTER_AREA,cv2.INTER_LINEAR,cv2.INTER_NEAREST,cv2.INTER_CUBIC,cv2.INTER_LANCZOS4] #different methods available in CV2\n",
    "    resize_method = method[method_number]\n",
    "    resized_image = cv2.resize(image,dimensions,interpolation=resize_method) #3 parameters to be passed in image resizing operations \n",
    "    return resized_image"
   ]
  },
  {
   "cell_type": "code",
   "execution_count": 6,
   "id": "d8be3197",
   "metadata": {},
   "outputs": [
    {
     "ename": "SyntaxError",
     "evalue": "invalid syntax (1737362094.py, line 9)",
     "output_type": "error",
     "traceback": [
      "\u001b[0;36m  Input \u001b[0;32mIn [6]\u001b[0;36m\u001b[0m\n\u001b[0;31m    return crop_image\u001b[0m\n\u001b[0m    ^\u001b[0m\n\u001b[0;31mSyntaxError\u001b[0m\u001b[0;31m:\u001b[0m invalid syntax\n"
     ]
    }
   ],
   "source": [
    "def crop_image(image,dimensions):\n",
    "    image_dims = image.shape\n",
    "    h_s,h_e,w_s,w_e = dimensions\n",
    "    width_dims = [w_s,w_e]\n",
    "    height_dims = [h_s,h_e]\n",
    "    np.clip(height_dims,a_min=0,a_max=image_dims[0])\n",
    "    np.clip(width_dims,a_min=0,a_max=image_dims[1])\n",
    "    crop_image = image[height_dims[0]:height_dims[1],width_dims[0]:width_dims[1]\n",
    "    return crop_image"
   ]
  },
  {
   "cell_type": "markdown",
   "id": "a3e2fa1e",
   "metadata": {},
   "source": [
    "Below is the implementaion of the above written code"
   ]
  },
  {
   "cell_type": "code",
   "execution_count": null,
   "id": "5e075547",
   "metadata": {},
   "outputs": [
    {
     "name": "stdout",
     "output_type": "stream",
     "text": [
      "(168, 300, 3)\n"
     ]
    }
   ],
   "source": [
    "image = read_image('car.jpg')\n",
    "#display_image('Displayed_image',image)\n",
    "#save_image('untitled_folder//saved_image.jpg',image)\n",
    "print(image.shape)\n",
    "dimensions = (160,160)\n",
    "method = 1      #In python indexing begins from '0', '1' stands for eement at '2nd' position\n",
    "resized_image = resize_image(image,dimensions,method)\n",
    "display_image('resized_image',resized_image)\n",
    "crop_dimensions = [0,150,0,150]\n",
    "cropped_image = crop_image(image,crop_dimensions)\n",
    "display_image('cropped_image',cropped_image)"
   ]
  },
  {
   "cell_type": "code",
   "execution_count": null,
   "id": "e5e6204a",
   "metadata": {},
   "outputs": [],
   "source": []
  }
 ],
 "metadata": {
  "kernelspec": {
   "display_name": "Python 3 (ipykernel)",
   "language": "python",
   "name": "python3"
  },
  "language_info": {
   "codemirror_mode": {
    "name": "ipython",
    "version": 3
   },
   "file_extension": ".py",
   "mimetype": "text/x-python",
   "name": "python",
   "nbconvert_exporter": "python",
   "pygments_lexer": "ipython3",
   "version": "3.9.12"
  }
 },
 "nbformat": 4,
 "nbformat_minor": 5
}

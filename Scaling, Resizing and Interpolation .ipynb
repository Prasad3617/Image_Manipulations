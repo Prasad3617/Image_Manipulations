{
 "cells": [
  {
   "cell_type": "markdown",
   "id": "714fd8b8",
   "metadata": {},
   "source": [
    "## Scaling, Resizing and Interpolation "
   ]
  },
  {
   "cell_type": "markdown",
   "id": "c4d10c63",
   "metadata": {},
   "source": [
    "### METHOD-1"
   ]
  },
  {
   "cell_type": "code",
   "execution_count": 1,
   "id": "472ca4c6",
   "metadata": {},
   "outputs": [],
   "source": [
    "import cv2                #importing necessary libraries\n",
    "import numpy as np"
   ]
  },
  {
   "cell_type": "code",
   "execution_count": 1,
   "id": "222b4fbc",
   "metadata": {},
   "outputs": [
    {
     "ename": "NameError",
     "evalue": "name 'cv2' is not defined",
     "output_type": "error",
     "traceback": [
      "\u001b[0;31m---------------------------------------------------------------------------\u001b[0m",
      "\u001b[0;31mNameError\u001b[0m                                 Traceback (most recent call last)",
      "Cell \u001b[0;32mIn[1], line 1\u001b[0m\n\u001b[0;32m----> 1\u001b[0m image\u001b[38;5;241m=\u001b[39m\u001b[43mcv2\u001b[49m\u001b[38;5;241m.\u001b[39mimread(\u001b[38;5;124m\"\u001b[39m\u001b[38;5;124mimage.png\u001b[39m\u001b[38;5;124m\"\u001b[39m)      \u001b[38;5;66;03m#reading an image prior to performing scaling operations\u001b[39;00m\n\u001b[1;32m      2\u001b[0m cv2\u001b[38;5;241m.\u001b[39mimshow(\u001b[38;5;124m\"\u001b[39m\u001b[38;5;124mOriginal_Image\u001b[39m\u001b[38;5;124m\"\u001b[39m,image)   \u001b[38;5;66;03m#displaying the original image\u001b[39;00m\n\u001b[1;32m      3\u001b[0m cv2\u001b[38;5;241m.\u001b[39mwaitKey()\n",
      "\u001b[0;31mNameError\u001b[0m: name 'cv2' is not defined"
     ]
    }
   ],
   "source": [
    "image=cv2.imread(\"image.png\")      #reading an image prior to performing scaling operations\n",
    "cv2.imshow(\"Original_Image\",image)   #displaying the original image\n",
    "cv2.waitKey()"
   ]
  },
  {
   "cell_type": "code",
   "execution_count": 3,
   "id": "eae5ad81",
   "metadata": {},
   "outputs": [
    {
     "data": {
      "text/plain": [
       "113"
      ]
     },
     "execution_count": 3,
     "metadata": {},
     "output_type": "execute_result"
    }
   ],
   "source": [
    "scaled_image=cv2.resize(image,None,fx=0.75,fy=0.75)         #resizing the image to 3/4th or 75% of its original size\n",
    "cv2.imshow(\"Scaling-Linear_Interpolation\",scaled_image)\n",
    "cv2.waitKey()"
   ]
  },
  {
   "cell_type": "code",
   "execution_count": 4,
   "id": "e9777a08",
   "metadata": {},
   "outputs": [
    {
     "data": {
      "text/plain": [
       "113"
      ]
     },
     "execution_count": 4,
     "metadata": {},
     "output_type": "execute_result"
    }
   ],
   "source": [
    "scaled_image1=cv2.resize(image,None,fx=2,fy=2,interpolation=cv2.INTER_CUBIC)         #resizing the image to twice or 200% of its original size\n",
    "cv2.imshow(\"Scaling-Cubic_Interpolation\",scaled_image1)\n",
    "cv2.waitKey()"
   ]
  },
  {
   "cell_type": "code",
   "execution_count": null,
   "id": "27807ebe",
   "metadata": {},
   "outputs": [],
   "source": [
    "scaled_image2=cv2.resize(image,(900,400),interpolation=cv2.INTER_AREA)         #resizing the image by using exact dimensions or coordinates\n",
    "cv2.imshow(\"Scaling-Skewed_Size\",scaled_image2)\n",
    "cv2.waitKey()"
   ]
  },
  {
   "cell_type": "code",
   "execution_count": null,
   "id": "93a3e8f8",
   "metadata": {},
   "outputs": [],
   "source": [
    "cv2.destroyAllWindows()"
   ]
  },
  {
   "cell_type": "markdown",
   "id": "17c38890",
   "metadata": {},
   "source": [
    "### METHOD-2"
   ]
  },
  {
   "cell_type": "code",
   "execution_count": 2,
   "id": "363f9a0f",
   "metadata": {},
   "outputs": [
    {
     "data": {
      "text/plain": [
       "113"
      ]
     },
     "execution_count": 2,
     "metadata": {},
     "output_type": "execute_result"
    }
   ],
   "source": [
    "image=cv2.imread(\"image.png\")      #reading an image prior to performing scaling operations\n",
    "cv2.imshow(\"Original_Image\",image)   #displaying the original image\n",
    "cv2.waitKey()"
   ]
  },
  {
   "cell_type": "code",
   "execution_count": 3,
   "id": "9e874de1",
   "metadata": {},
   "outputs": [
    {
     "data": {
      "text/plain": [
       "113"
      ]
     },
     "execution_count": 3,
     "metadata": {},
     "output_type": "execute_result"
    }
   ],
   "source": [
    "smaller=cv2.pyrDown(image)                  #scaled_down image being created using \"cv2.pyrDown\"\n",
    "cv2.imshow(\"Scaled_Down_Image\",smaller)\n",
    "cv2.waitKey()"
   ]
  },
  {
   "cell_type": "code",
   "execution_count": null,
   "id": "dcf8388c",
   "metadata": {},
   "outputs": [],
   "source": [
    "larger=cv2.pyrUp(smaller)                   #up_scaled_image is being created using \"cv2.pyrUp\"\n",
    "cv2.imshow(\"Up_Scaled_Image\",larger)\n",
    "cv2.waitKey()"
   ]
  },
  {
   "cell_type": "code",
   "execution_count": 6,
   "id": "22913f87",
   "metadata": {},
   "outputs": [],
   "source": [
    "cv2.destroyAllWindows()"
   ]
  },
  {
   "cell_type": "code",
   "execution_count": null,
   "id": "74c1b783",
   "metadata": {},
   "outputs": [],
   "source": []
  },
  {
   "cell_type": "code",
   "execution_count": null,
   "id": "03ba5893",
   "metadata": {},
   "outputs": [],
   "source": []
  },
  {
   "cell_type": "code",
   "execution_count": null,
   "id": "75cffc9d",
   "metadata": {},
   "outputs": [],
   "source": []
  }
 ],
 "metadata": {
  "kernelspec": {
   "display_name": "Python 3 (ipykernel)",
   "language": "python",
   "name": "python3"
  },
  "language_info": {
   "codemirror_mode": {
    "name": "ipython",
    "version": 3
   },
   "file_extension": ".py",
   "mimetype": "text/x-python",
   "name": "python",
   "nbconvert_exporter": "python",
   "pygments_lexer": "ipython3",
   "version": "3.10.11"
  }
 },
 "nbformat": 4,
 "nbformat_minor": 5
}
